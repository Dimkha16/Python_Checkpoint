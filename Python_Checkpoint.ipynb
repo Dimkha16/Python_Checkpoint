{
 "cells": [
  {
   "cell_type": "markdown",
   "id": "b130f5e3",
   "metadata": {},
   "source": [
    "# Exercice 1"
   ]
  },
  {
   "cell_type": "code",
   "execution_count": null,
   "id": "d0e8cb9d",
   "metadata": {},
   "outputs": [],
   "source": [
    "myList=[]\n",
    "i=0\n",
    "for i in range (2000, 3201, 1):\n",
    "    if i % 7==0 and i % 5!=0:\n",
    "        myList.append(i)\n",
    "print(myList)"
   ]
  },
  {
   "cell_type": "markdown",
   "id": "fc57432c",
   "metadata": {},
   "source": [
    "# Exercice 2"
   ]
  },
  {
   "cell_type": "code",
   "execution_count": null,
   "id": "8266b2db",
   "metadata": {},
   "outputs": [],
   "source": [
    "n=input(\"Entrez un nombre\")\n",
    "n=int(n)\n",
    "def factoriel (n):\n",
    "    z=1\n",
    "    for i in range (n,1,-1):\n",
    "        z=z*i\n",
    "    return z\n",
    "factoriel(n)"
   ]
  },
  {
   "cell_type": "markdown",
   "id": "3ef5e1f3",
   "metadata": {},
   "source": [
    "# Exercice 3"
   ]
  },
  {
   "cell_type": "code",
   "execution_count": null,
   "id": "3196f672",
   "metadata": {},
   "outputs": [],
   "source": [
    "n=input(\"Entrez un nombre\")\n",
    "n=int (n)\n",
    "myDict={}\n",
    "for i in range (1,n+1,1):\n",
    "    myDict[i]=i**2\n",
    "print (myDict)"
   ]
  },
  {
   "cell_type": "markdown",
   "id": "8caf2786",
   "metadata": {},
   "source": [
    "# Exercice 4"
   ]
  },
  {
   "cell_type": "code",
   "execution_count": null,
   "id": "c15d15fc",
   "metadata": {},
   "outputs": [],
   "source": [
    "s=input(\"Veuillez entrer une chaîne de caractères: \")\n",
    "condition = True\n",
    "while condition == True:\n",
    "    n=input(\"Veuillez saisir l'index du caractère à supprimer: \")\n",
    "    n=int(n)\n",
    "    if n>=0 and n<len(s):\n",
    "        condition = False\n",
    "def missing_char(s,n):\n",
    "    a=list(s.strip())\n",
    "    del a [n]\n",
    "    b=''.join(a)\n",
    "    return b\n",
    "missing_char(s,n)"
   ]
  },
  {
   "cell_type": "markdown",
   "id": "f001dbc1",
   "metadata": {},
   "source": [
    "# Exercice 5"
   ]
  },
  {
   "cell_type": "code",
   "execution_count": null,
   "id": "497e7230",
   "metadata": {},
   "outputs": [],
   "source": [
    "import numpy as np\n",
    "a=np.array([[0,1],[2,3],[3,4]])\n",
    "def to_list (a):\n",
    "    return a.tolist()\n",
    "to_list(a)"
   ]
  },
  {
   "cell_type": "markdown",
   "id": "3cda545c",
   "metadata": {},
   "source": [
    "# Exercice 6"
   ]
  },
  {
   "cell_type": "code",
   "execution_count": null,
   "id": "6546629c",
   "metadata": {},
   "outputs": [],
   "source": [
    "import numpy as np\n",
    "def cov (a,b):\n",
    "    a=np.array((0,1,2))\n",
    "    b=np.array((2,1,0))\n",
    "    return np.cov(a,b)\n",
    "cov(a,b)"
   ]
  },
  {
   "cell_type": "markdown",
   "id": "74e6a23f",
   "metadata": {},
   "source": [
    "# Exercice 7"
   ]
  },
  {
   "cell_type": "code",
   "execution_count": null,
   "id": "e39921ad",
   "metadata": {
    "collapsed": true
   },
   "outputs": [],
   "source": [
    "import numpy as np\n",
    "n=input(\"Saisir les trois valeurs séparées par des virgules: \")\n",
    "valeurs_de_D=n.split(\",\")\n",
    "myList=[]\n",
    "C=50\n",
    "H=30\n",
    "for i in range (0,len(valeurs_de_D),1):\n",
    "    valeurs_de_D[i]=int(valeurs_de_D[i])\n",
    "    a=np.sqrt(2*C*valeurs_de_D[i]/H)\n",
    "    a=round(a,0)\n",
    "    a=int(a)\n",
    "    myList.append(a)\n",
    "print (myList)"
   ]
  },
  {
   "cell_type": "code",
   "execution_count": null,
   "id": "f0b941f0",
   "metadata": {},
   "outputs": [],
   "source": []
  }
 ],
 "metadata": {
  "kernelspec": {
   "display_name": "Python 3",
   "language": "python",
   "name": "python3"
  },
  "language_info": {
   "codemirror_mode": {
    "name": "ipython",
    "version": 3
   },
   "file_extension": ".py",
   "mimetype": "text/x-python",
   "name": "python",
   "nbconvert_exporter": "python",
   "pygments_lexer": "ipython3",
   "version": "3.8.8"
  }
 },
 "nbformat": 4,
 "nbformat_minor": 5
}
